{
 "cells": [
  {
   "cell_type": "code",
   "execution_count": 199,
   "metadata": {},
   "outputs": [],
   "source": [
    "import pandas as pd\n",
    "import random as rand\n",
    "import numpy as np\n",
    "import math\n",
    "from sklearn import preprocessing\n",
    "from sklearn.model_selection import KFold\n",
    "from sklearn.metrics import accuracy_score, ConfusionMatrixDisplay\n",
    "from sklearn.utils import shuffle\n",
    "from sklearn import metrics\n",
    "import matplotlib.pyplot as plt\n",
    "from sklearn.linear_model import LogisticRegression\n",
    "from sklearn.neighbors import KNeighborsClassifier\n",
    "\n",
    "# Read data\n",
    "data_beijing = pd.read_csv('Cities/Beijing_labeled.csv')\n",
    "data_shanghai = pd.read_csv('Cities/Shanghai_labeled.csv')\n",
    "data_chengdu = pd.read_csv('Cities/Chengdu_labeled.csv')\n",
    "data_shenyang = pd.read_csv('Cities/Shenyang_labeled.csv')\n",
    "data_guanzhou = pd.read_csv('Cities/Guangzhou_labeled.csv')\n",
    "\n",
    "test_data_guanzhou = data_guanzhou\n",
    "test_data_shanghai = data_shanghai"
   ]
  },
  {
   "cell_type": "code",
   "execution_count": 200,
   "metadata": {},
   "outputs": [],
   "source": [
    "train_data = data_beijing.append(data_shenyang, ignore_index = True)\n",
    "\n",
    "X_train = train_data.loc[:, train_data.columns != 'PM_HIGH']\n",
    "Y_train = train_data.loc[:,\"PM_HIGH\"]\n",
    "\n",
    "X_test_guangzhou = test_data_guanzhou.loc[:, test_data_guanzhou.columns != 'PM_HIGH']\n",
    "Y_test_guangzhou = test_data_guanzhou.loc[:,\"PM_HIGH\"]\n",
    "\n",
    "X_test_shanghai = test_data_shanghai.loc[:, test_data_shanghai.columns != 'PM_HIGH']\n",
    "Y_test_shanghai = test_data_shanghai.loc[:,\"PM_HIGH\"]\n"
   ]
  },
  {
   "attachments": {},
   "cell_type": "markdown",
   "metadata": {},
   "source": [
    "**Undersampling training data**\\\n",
    "In our training data set the majority class for the target variable is 0. Here, we use undersampling to create a balanced data set. We get a data set with 1564 rows. "
   ]
  },
  {
   "cell_type": "code",
   "execution_count": 201,
   "metadata": {},
   "outputs": [],
   "source": [
    "# Get indices of all 'ones' from training data\n",
    "ones_inds = train_data.loc[train_data['PM_HIGH'] == 1].index.to_list()\n",
    "number_of_ones = len(ones_inds)\n",
    "\n",
    "# Get indices of all 'zeros' from training data \n",
    "zeros_inds = train_data.loc[train_data['PM_HIGH'] == 0].index.tolist()\n",
    "\n",
    "# Select a random subset of 'zeros', the same number as the number of 'ones' \n",
    "random_zeros = rand.sample(zeros_inds, number_of_ones)\n",
    "\n",
    "# Combine indices of all of the original 'ones', and the selected 'zeros'\n",
    "undersampling_inds = ones_inds + random_zeros\n",
    "undersampled_data = train_data.iloc[undersampling_inds]\n",
    "\n",
    "# Shuffle the data\n",
    "undersampled_data = undersampled_data.sample(frac=1)\n",
    " \n",
    "# Split into X and Y\n",
    "X_train_undersampled = undersampled_data.loc[:, undersampled_data.columns != 'PM_HIGH']\n",
    "Y_train_undersampled = undersampled_data.loc[:,\"PM_HIGH\"]"
   ]
  },
  {
   "attachments": {},
   "cell_type": "markdown",
   "metadata": {},
   "source": [
    "**Oversampling training data**\\\n",
    "In our training data set the majority class for the target variable is 0. Here, we use oversampling to create a balanced data set. We get a data set with 5280 rows. "
   ]
  },
  {
   "cell_type": "code",
   "execution_count": 202,
   "metadata": {},
   "outputs": [],
   "source": [
    "# Get all the 'ones' from the training data\n",
    "ones =  train_data.loc[train_data['PM_HIGH'] == 1]\n",
    "ones_copy = ones.copy()\n",
    "\n",
    "# Triple the 'ones' we had from the beginning\n",
    "train_data_extra_ones = train_data.append(ones_copy, ignore_index = True)\n",
    "train_data_extra_ones = train_data_extra_ones.append(ones_copy, ignore_index = True)\n",
    "\n",
    "# Get 1858 indices of 'ones' so that we have the same amount of 'ones' as 'zeros'\n",
    "extra_ones_inds = train_data_extra_ones.loc[train_data_extra_ones['PM_HIGH'] == 1].index.tolist()\n",
    "rand_extra_ones = rand.sample(extra_ones_inds, 1858)\n",
    "\n",
    "# Combine indices of all of the original 'ones', 'zeros' and the extra 'ones'\n",
    "oversampling_inds = ones_inds + zeros_inds + rand_extra_ones\n",
    "oversampled_data = train_data_extra_ones.iloc[oversampling_inds]\n",
    "\n",
    "# Shuffle the data\n",
    "oversampled_data = oversampled_data.sample(frac=1)\n",
    "\n",
    "# Split into X and Y\n",
    "X_train_oversampled = oversampled_data.loc[:, oversampled_data.columns != 'PM_HIGH']\n",
    "Y_train_oversampled = oversampled_data.loc[:,\"PM_HIGH\"]"
   ]
  },
  {
   "attachments": {},
   "cell_type": "markdown",
   "metadata": {},
   "source": [
    "**Oversampling the test data**"
   ]
  },
  {
   "cell_type": "code",
   "execution_count": null,
   "metadata": {},
   "outputs": [],
   "source": [
    "from imblearn.over_sampling import RandomOverSampler, SMOTE\n",
    "\n",
    "# Create oversampler\n",
    "oversample = RandomOverSampler(sampling_strategy='minority')\n",
    "\n",
    "\n",
    "# Oversample data for both shanghai and guangzhou\n",
    "X_test_oversampled_shanghai, Y_test_oversampled_shanghai = oversample.fit_resample(X_test_shanghai, Y_test_shanghai)\n",
    "X_test_oversampled_guangzhou, Y_test_oversampled_guangzhou = oversample.fit_resample(X_test_guangzhou, Y_test_guangzhou)"
   ]
  },
  {
   "attachments": {},
   "cell_type": "markdown",
   "metadata": {},
   "source": [
    "**Scaling the data**\\\n",
    "The features in the data set are of different magnitude. We are measuring distances, and want all features to be treated equally - all features should have the same impact on the distance calculation. Therefore, we scale the data using the min max scaler. "
   ]
  },
  {
   "cell_type": "code",
   "execution_count": null,
   "metadata": {},
   "outputs": [],
   "source": [
    "X_train = X_train_oversampled\n",
    "Y_train = Y_train_oversampled \n",
    "\n",
    "scaler = preprocessing.MinMaxScaler()\n",
    "scaler.fit(X_train)\n",
    "\n",
    "# Scale the data\n",
    "X_train_scaled = scaler.transform(X_train)\n",
    "X_test_scaled_shanghai = scaler.transform(X_test_oversampled_shanghai)\n",
    "X_test_scaled_guangzhou = scaler.transform(X_test_oversampled_guangzhou)"
   ]
  },
  {
   "attachments": {},
   "cell_type": "markdown",
   "metadata": {},
   "source": [
    "**Create KMeans Classifier** \\\n",
    "Our classifier, implemented with KMeans from sklearn. "
   ]
  },
  {
   "cell_type": "code",
   "execution_count": 205,
   "metadata": {},
   "outputs": [],
   "source": [
    "# create model\n",
    "from sklearn.cluster import KMeans\n",
    "from sklearn.metrics import pairwise_distances_argmin\n",
    "from sklearn.metrics import accuracy_score\n",
    "\n",
    "class KMeansClassifier:\n",
    "\n",
    "    def __init__(self, k):\n",
    "        self.k = k\n",
    "        # The Y-value for each centroid\n",
    "        self.centroid_y = []\n",
    "        # The centroid coordinates\n",
    "        self.centroid_centers = []\n",
    "    \n",
    "    def fit(self, X, Y):\n",
    "\n",
    "        # Fit SKLearns KMeans clustering\n",
    "        kmeans = KMeans(n_clusters = self.k, n_init='auto')\n",
    "        kmeans.fit(X)\n",
    "        \n",
    "        # Get the centroid centers\n",
    "        self.centroid_centers = kmeans.cluster_centers_ \n",
    "\n",
    "        # Get what datapoints belong to which cluster\n",
    "        point_belongs_to = kmeans.labels_\n",
    "\n",
    "\n",
    "        for centroid_i in range(self.k):\n",
    "\n",
    "            # Indices of all datapoints belonging to centroid i\n",
    "            index_centroid_i = np.where(point_belongs_to == centroid_i)\n",
    "            \n",
    "            # All the Y-values of datapoints in centroid i\n",
    "            y_values_centroid_i = Y.iloc[index_centroid_i]\n",
    "\n",
    "            # The most frequent Y-value in centroid i\n",
    "            most_frequent_y = y_values_centroid_i.value_counts().idxmax()\n",
    "\n",
    "            self.centroid_y.append(most_frequent_y)\n",
    "            \n",
    "    def predict(self, X):\n",
    "        predictions = []\n",
    "        for datapoint in X:\n",
    "\n",
    "            # The index of the closest centroid\n",
    "            closest_centroid = pairwise_distances_argmin([datapoint], self.centroid_centers)\n",
    "\n",
    "            # The Y-value of the the closest centroid\n",
    "            y_value = self.centroid_y[closest_centroid[0]]\n",
    "            predictions.append(y_value)\n",
    "        \n",
    "        return predictions\n",
    "        \n",
    "\n",
    "    def score(self, x, y):\n",
    "        predictions  = self.predict(x)\n",
    "\n",
    "        # Calculate accuary\n",
    "        acc = accuracy_score(y, predictions)\n",
    "        return acc"
   ]
  },
  {
   "attachments": {},
   "cell_type": "markdown",
   "metadata": {},
   "source": [
    "**Cross-validation**\\\n",
    "Using cross-validation with 5 folds to identify the number of clusters that gives the best performance on our training data. "
   ]
  },
  {
   "cell_type": "code",
   "execution_count": 206,
   "metadata": {},
   "outputs": [
    {
     "name": "stdout",
     "output_type": "stream",
     "text": [
      "Accuracy of each fold: [0.5499474237644585, 0.5709779179810726, 0.5720294426919033, 0.5621052631578948, 0.5368421052631579]\n",
      "f1 score of each fold: [0.7096336499321574, 0.7269076305220884, 0.7277591973244147, 0.7196765498652291, 0.6986301369863014]\n",
      "Avg accuracy: 0.5583804305716974 for k = 1\n",
      "Avg f1 score: 0.7165214329260382 for k = 1\n",
      "\n",
      "\n",
      "Accuracy of each fold: [0.5930599369085173, 0.40904311251314407, 0.61198738170347, 0.5978947368421053, 0.42105263157894735]\n",
      "f1 score of each fold: [0.5251533742331288, 0.5339966832504145, 0.6392961876832844, 0.6225296442687748, 0.4488977955911823]\n",
      "Avg accuracy: 0.5266075599092368 for k = 2\n",
      "Avg f1 score: 0.553974737005357 for k = 2\n",
      "\n",
      "\n",
      "Accuracy of each fold: [0.6466876971608833, 0.49631966351209256, 0.40904311251314407, 0.38526315789473686, 0.5168421052631579]\n",
      "f1 score of each fold: [0.7345971563981043, 0.5317693059628543, 0.5277310924369747, 0.5008547008547009, 0.6066838046272494]\n",
      "Avg accuracy: 0.49083114726880295 for k = 3\n",
      "Avg f1 score: 0.5803272120559766 for k = 3\n",
      "\n",
      "\n",
      "Accuracy of each fold: [0.6540483701366983, 0.33964248159831756, 0.38485804416403785, 0.6884210526315789, 0.6189473684210526]\n",
      "f1 score of each fold: [0.720949957591179, 0.3757455268389663, 0.3743315508021391, 0.7529215358931552, 0.7085346215780999]\n",
      "Avg accuracy: 0.5371834633903371 for k = 4\n",
      "Avg f1 score: 0.586496638540708 for k = 4\n",
      "\n",
      "\n",
      "Accuracy of each fold: [0.6572029442691903, 0.3890641430073607, 0.4931650893796004, 0.5157894736842106, 0.41578947368421054]\n",
      "f1 score of each fold: [0.6746506986027944, 0.42532146389713155, 0.5452830188679245, 0.5643939393939393, 0.4307692307692308]\n",
      "Avg accuracy: 0.4942022248049146 for k = 5\n",
      "Avg f1 score: 0.5280836703062042 for k = 5\n",
      "\n",
      "\n",
      "Accuracy of each fold: [0.6540483701366983, 0.47528916929547843, 0.5289169295478444, 0.5231578947368422, 0.5547368421052632]\n",
      "f1 score of each fold: [0.720949957591179, 0.5634295713035871, 0.6516329704510109, 0.6361445783132531, 0.6192619261926192]\n",
      "Avg accuracy: 0.5472298411644253 for k = 6\n",
      "Avg f1 score: 0.6382838007703299 for k = 6\n",
      "\n",
      "\n",
      "Accuracy of each fold: [0.6540483701366983, 0.4069400630914827, 0.47213459516298634, 0.5863157894736842, 0.4557894736842105]\n",
      "f1 score of each fold: [0.720949957591179, 0.49552772808586765, 0.4803312629399586, 0.6537444933920705, 0.5312783318223028]\n",
      "Avg accuracy: 0.5150456583098124 for k = 7\n",
      "Avg f1 score: 0.5763663547662757 for k = 7\n",
      "\n",
      "\n",
      "Accuracy of each fold: [0.6540483701366983, 0.4332281808622503, 0.4815983175604627, 0.38105263157894737, 0.46842105263157896]\n",
      "f1 score of each fold: [0.720949957591179, 0.464746772591857, 0.49847405900305186, 0.3875, 0.48205128205128206]\n",
      "Avg accuracy: 0.48366971055398744 for k = 8\n",
      "Avg f1 score: 0.510744414247474 for k = 8\n",
      "\n",
      "\n",
      "Accuracy of each fold: [0.6540483701366983, 0.49631966351209256, 0.5888538380651945, 0.5747368421052632, 0.5789473684210527]\n",
      "f1 score of each fold: [0.720949957591179, 0.592340425531915, 0.6677994902293968, 0.6644518272425248, 0.6261682242990654]\n",
      "Avg accuracy: 0.5785812164480603 for k = 9\n",
      "Avg f1 score: 0.6543419849788161 for k = 9\n",
      "\n",
      "\n",
      "Accuracy of each fold: [0.6540483701366983, 0.5457413249211357, 0.4490010515247108, 0.5778947368421052, 0.588421052631579]\n",
      "f1 score of each fold: [0.720949957591179, 0.5772994129158513, 0.5009523809523809, 0.6248830682881198, 0.6207565470417071]\n",
      "Avg accuracy: 0.5630213072112458 for k = 10\n",
      "Avg f1 score: 0.6089682733578476 for k = 10\n",
      "\n",
      "\n",
      "Accuracy of each fold: [0.676130389064143, 0.48264984227129337, 0.45531019978969506, 0.6294736842105263, 0.4126315789473684]\n",
      "f1 score of each fold: [0.7169117647058824, 0.4533333333333333, 0.44181034482758624, 0.6615384615384616, 0.3496503496503497]\n",
      "Avg accuracy: 0.5312391388566052 for k = 11\n",
      "Avg f1 score: 0.5246488508111227 for k = 11\n",
      "\n",
      "\n",
      "Accuracy of each fold: [0.676130389064143, 0.3890641430073607, 0.4784437434279706, 0.5905263157894737, 0.4789473684210526]\n",
      "f1 score of each fold: [0.7169117647058824, 0.40653728294177727, 0.5221579961464355, 0.6312796208530806, 0.4794952681388013]\n",
      "Avg accuracy: 0.5226223919420001 for k = 12\n",
      "Avg f1 score: 0.5512763865571955 for k = 12\n",
      "\n",
      "\n",
      "Accuracy of each fold: [0.6740273396424816, 0.49631966351209256, 0.4637223974763407, 0.3831578947368421, 0.5210526315789473]\n",
      "f1 score of each fold: [0.714548802946593, 0.5672990063233966, 0.5067698259187621, 0.3831578947368421, 0.5445445445445446]\n",
      "Avg accuracy: 0.5076559853893409 for k = 13\n",
      "Avg f1 score: 0.5432640148940278 for k = 13\n",
      "\n",
      "\n",
      "Accuracy of each fold: [0.6740273396424816, 0.5184016824395373, 0.5878023133543638, 0.4631578947368421, 0.42947368421052634]\n",
      "f1 score of each fold: [0.714548802946593, 0.57196261682243, 0.6487455197132616, 0.4806517311608961, 0.41594827586206895]\n",
      "Avg accuracy: 0.5345725828767502 for k = 14\n",
      "Avg f1 score: 0.56637138930105 for k = 14\n",
      "\n",
      "\n",
      "Accuracy of each fold: [0.6740273396424816, 0.5425867507886435, 0.5930599369085173, 0.6031578947368421, 0.6252631578947369]\n",
      "f1 score of each fold: [0.714548802946593, 0.6147032772364925, 0.6535362578334826, 0.6473339569691301, 0.667910447761194]\n",
      "Avg accuracy: 0.6076190159942442 for k = 15\n",
      "Avg f1 score: 0.6596065485493784 for k = 15\n",
      "\n",
      "\n",
      "Accuracy of each fold: [0.7055730809674028, 0.4500525762355415, 0.5436382754994742, 0.608421052631579, 0.531578947368421]\n",
      "f1 score of each fold: [0.7582037996545768, 0.5266968325791856, 0.6226086956521739, 0.6574585635359116, 0.5797922568460813]\n",
      "Avg accuracy: 0.5678527865404838 for k = 16\n",
      "Avg f1 score: 0.6289520296535859 for k = 16\n",
      "\n",
      "\n",
      "Accuracy of each fold: [0.6982124079915878, 0.5888538380651945, 0.4658254468980021, 0.4189473684210526, 0.48947368421052634]\n",
      "f1 score of each fold: [0.745792736935341, 0.6638005159071366, 0.50390625, 0.46093750000000006, 0.5286686103012633]\n",
      "Avg accuracy: 0.5322625491172727 for k = 17\n",
      "Avg f1 score: 0.5806211226287482 for k = 17\n",
      "\n",
      "\n",
      "Accuracy of each fold: [0.7024185068349106, 0.5415352260778128, 0.4395373291272345, 0.5747368421052632, 0.5305263157894737]\n",
      "f1 score of each fold: [0.7502206531332745, 0.6141592920353982, 0.5253784505788067, 0.6340579710144928, 0.5974729241877257]\n",
      "Avg accuracy: 0.5577508439869389 for k = 18\n",
      "Avg f1 score: 0.6242578581899395 for k = 18\n",
      "\n",
      "\n",
      "Accuracy of each fold: [0.6992639327024185, 0.5856992639327024, 0.573080967402734, 0.4231578947368421, 0.5631578947368421]\n",
      "f1 score of each fold: [0.7441860465116279, 0.6254752851711027, 0.6103646833013436, 0.4267782426778243, 0.5820745216515609]\n",
      "Avg accuracy: 0.5688719907023078 for k = 19\n",
      "Avg f1 score: 0.5977757558626919 for k = 19\n",
      "\n",
      "\n",
      "Accuracy of each fold: [0.7034700315457413, 0.5783385909568874, 0.5320715036803365, 0.4473684210526316, 0.4263157894736842]\n",
      "f1 score of each fold: [0.7491103202846976, 0.6731866340668297, 0.6016114592658908, 0.4847890088321884, 0.49490268767377205]\n",
      "Avg accuracy: 0.5375128673418562 for k = 20\n",
      "Avg f1 score: 0.6007200220246757 for k = 20\n",
      "\n",
      "\n",
      "Accuracy of each fold: [0.704521556256572, 0.4952681388012618, 0.5415352260778128, 0.5684210526315789, 0.5431578947368421]\n",
      "f1 score of each fold: [0.7515473032714413, 0.5737122557726466, 0.6221837088388215, 0.6483704974271012, 0.6232638888888888]\n",
      "Avg accuracy: 0.5705807737008135 for k = 21\n",
      "Avg f1 score: 0.6438155308397799 for k = 21\n",
      "\n",
      "\n",
      "Accuracy of each fold: [0.7150368033648791, 0.6004206098843323, 0.5751840168243953, 0.52, 0.4378947368421053]\n",
      "f1 score of each fold: [0.7573858549686661, 0.6838602329450915, 0.6535162950257289, 0.5777777777777778, 0.4723320158102767]\n",
      "Avg accuracy: 0.5697072333831424 for k = 22\n",
      "Avg f1 score: 0.6289744353055082 for k = 22\n",
      "\n",
      "\n",
      "Accuracy of each fold: [0.6908517350157729, 0.5120925341745531, 0.45846477392218715, 0.5210526315789473, 0.5168421052631579]\n",
      "f1 score of each fold: [0.7317518248175181, 0.5547024952015356, 0.5062320230105465, 0.5687203791469194, 0.534010152284264]\n",
      "Avg accuracy: 0.5398607559909236 for k = 23\n",
      "Avg f1 score: 0.5790833748921568 for k = 23\n",
      "\n",
      "\n",
      "Accuracy of each fold: [0.6982124079915878, 0.4868559411146162, 0.5057833859095688, 0.48526315789473684, 0.5378947368421053]\n",
      "f1 score of each fold: [0.7448888888888888, 0.5571687840290381, 0.584070796460177, 0.5614349775784754, 0.5830959164292498]\n",
      "Avg accuracy: 0.542801925950523 for k = 24\n",
      "Avg f1 score: 0.6061318726771658 for k = 24\n",
      "\n",
      "\n"
     ]
    }
   ],
   "source": [
    "from sklearn.metrics import f1_score\n",
    "\n",
    "# Number of folds\n",
    "k = 5\n",
    "kfold = KFold(k, shuffle=False)\n",
    "\n",
    "plot_acc_scores = []\n",
    "\n",
    "for i in range(1,25):\n",
    "\n",
    "    clf = KMeansClassifier(i)\n",
    "    acc_scores = []\n",
    "    f1_scores = []\n",
    "\n",
    "    for train_index, test_index in kfold.split(X_train_scaled):\n",
    "\n",
    "        # Split into train and test sets based on the KFold\n",
    "        X_train, X_test = X_train_scaled[train_index], X_train_scaled[test_index]\n",
    "        y_train, y_test = Y_train.iloc[train_index], Y_train.iloc[test_index]\n",
    "\n",
    "        clf.fit(X_train, y_train)\n",
    "        predicted_values = clf.predict(X_test)\n",
    "        \n",
    "        acc = accuracy_score(y_test, predicted_values)\n",
    "        acc_scores.append(acc)\n",
    "        avg_acc_score = sum(acc_scores)/k\n",
    "\n",
    "        f1 = f1_score(y_test, predicted_values)\n",
    "        f1_scores.append(f1)\n",
    "        avg_f1_score = sum(f1_scores)/k\n",
    "    \n",
    "    plot_acc_scores.append(avg_acc_score)\n",
    "    \n",
    "    print('Accuracy of each fold: {}'.format(acc_scores))\n",
    "    print('f1 score of each fold: {}'.format(f1_scores))\n",
    "    print('Avg accuracy: {} for k = {}'.format(avg_acc_score, i))\n",
    "    print('Avg f1 score: {} for k = {}'.format(avg_f1_score, i))\n",
    "    print('\\n')"
   ]
  },
  {
   "attachments": {},
   "cell_type": "markdown",
   "metadata": {},
   "source": [
    "From performing the cross-validation, we selected 5 as the number of clusters to use. \n",
    "\n",
    "Here, we are training the classifier with the selected number of clusters and calculating first the accuracy, and then the f1 score. "
   ]
  },
  {
   "cell_type": "code",
   "execution_count": 207,
   "metadata": {},
   "outputs": [
    {
     "name": "stdout",
     "output_type": "stream",
     "text": [
      "Accuracy score for Shanghai test set: 0.3929\n",
      "Accuracy score for Guangzhou test set: 0.5075\n"
     ]
    }
   ],
   "source": [
    "clf = KMeansClassifier(5)\n",
    "\n",
    "# Shanghai\n",
    "clf.fit(X_train_scaled, Y_train)\n",
    "score = clf.score(X_test_scaled_shanghai, Y_test_oversampled_shanghai)\n",
    "print('Accuracy score for Shanghai test set:', round(score, 4))\n",
    "\n",
    "# Guangzhou\n",
    "score = clf.score(X_test_scaled_guangzhou, Y_test_oversampled_guangzhou)\n",
    "print('Accuracy score for Guangzhou test set:', round(score, 4))"
   ]
  },
  {
   "cell_type": "code",
   "execution_count": 208,
   "metadata": {},
   "outputs": [
    {
     "name": "stdout",
     "output_type": "stream",
     "text": [
      "f1 score for Shanghai test set: 0.2609\n",
      "f1 score for Guangzhou test set: 0.4528\n"
     ]
    }
   ],
   "source": [
    "from sklearn.metrics import f1_score\n",
    "\n",
    "# Shanghai\n",
    "predicted_y_shanghai = clf.predict(X_test_scaled_shanghai)\n",
    "f1_shanghai = f1_score(Y_test_oversampled_shanghai, predicted_y_shanghai)\n",
    "print('f1 score for Shanghai test set:', round(f1_shanghai, 4))\n",
    "\n",
    "# Guangzhou\n",
    "predicted_y_guangzhou = clf.predict(X_test_scaled_guangzhou)\n",
    "f1 = f1_score(Y_test_oversampled_guangzhou, predicted_y_guangzhou)\n",
    "print('f1 score for Guangzhou test set:', round(f1, 4))"
   ]
  },
  {
   "attachments": {},
   "cell_type": "markdown",
   "metadata": {},
   "source": [
    "As we noticed that we got a low f1 score, we decided to plot the confusion matrix for the test set. This shows that there are quite many zeros that get misclassified as ones.  "
   ]
  },
  {
   "cell_type": "code",
   "execution_count": 209,
   "metadata": {},
   "outputs": [
    {
     "data": {
      "image/png": "[encoded data removed]",
      "text/plain": [
       "<Figure size 432x288 with 2 Axes>"
      ]
     },
     "metadata": {
      "needs_background": "light"
     },
     "output_type": "display_data"
    }
   ],
   "source": [
    "# Confusion matrix for test set Guangzhou\n",
    "\n",
    "confusion_matrix_guangzhou = metrics.confusion_matrix(Y_test_oversampled_guangzhou, predicted_y_guangzhou)\n",
    "cm_display = ConfusionMatrixDisplay(confusion_matrix = confusion_matrix_guangzhou, display_labels = [0, 1])\n",
    "\n",
    "cm_display.plot()\n",
    "plt.show()"
   ]
  },
  {
   "cell_type": "code",
   "execution_count": 210,
   "metadata": {},
   "outputs": [
    {
     "data": {
      "image/png": "[encoded data removed]",
      "text/plain": [
       "<Figure size 432x288 with 2 Axes>"
      ]
     },
     "metadata": {
      "needs_background": "light"
     },
     "output_type": "display_data"
    }
   ],
   "source": [
    "# Confusion matrix for test set Shanghai\n",
    "\n",
    "confusion_matrix_shanghai = metrics.confusion_matrix(Y_test_oversampled_shanghai, predicted_y_shanghai)\n",
    "cm_display = metrics.ConfusionMatrixDisplay(confusion_matrix = confusion_matrix_shanghai, display_labels = [0, 1])\n",
    "\n",
    "cm_display.plot()\n",
    "plt.show()"
   ]
  },
  {
   "attachments": {},
   "cell_type": "markdown",
   "metadata": {},
   "source": [
    "**Comparing with logistic regression and KNN**\\\n",
    "We are examining the performances of the models logistic regression and KNN, to be able to compare the performance of our model. \n"
   ]
  },
  {
   "cell_type": "code",
   "execution_count": 211,
   "metadata": {},
   "outputs": [
    {
     "name": "stdout",
     "output_type": "stream",
     "text": [
      "Accuracy score of logistic regression for test set Shanghai: 0.4573\n",
      "F1 Score of logistic regression for test set Shanghai: 0.4302 \n",
      "\n",
      "Accuracy score of KNN Classifier for test set Shanghai: 0.5378\n",
      "F1 score of KNN Classifier for test set Shanghai: 0.6149\n"
     ]
    }
   ],
   "source": [
    "lgr = LogisticRegression()\n",
    "lgr.fit(X_train_scaled, Y_train)\n",
    "lgr_score = lgr.score(X_test_scaled_shanghai, Y_test_oversampled_shanghai)\n",
    "lgr_predictions = lgr.predict(X_test_scaled_shanghai)\n",
    "f1_lgr = f1_score(Y_test_oversampled_shanghai, lgr_predictions)\n",
    "print(f'Accuracy score of logistic regression for test set Shanghai: {round(lgr_score, 4)}')\n",
    "print(f'F1 Score of logistic regression for test set Shanghai: {round(f1_lgr, 4)} \\n')\n",
    "\n",
    "knn = KNeighborsClassifier()\n",
    "knn.fit(X_train_scaled, Y_train)\n",
    "knn_score = knn.score(X_test_scaled_shanghai, Y_test_oversampled_shanghai)\n",
    "knn_predictions = knn.predict(X_test_scaled_shanghai)\n",
    "f1_knn = f1_score(Y_test_oversampled_shanghai, knn_predictions)\n",
    "print('Accuracy score of KNN Classifier for test set Shanghai:', round(knn_score, 4))\n",
    "print('F1 score of KNN Classifier for test set Shanghai:', round(f1_knn, 4))"
   ]
  },
  {
   "cell_type": "code",
   "execution_count": 212,
   "metadata": {},
   "outputs": [
    {
     "name": "stdout",
     "output_type": "stream",
     "text": [
      "Accuracy score of logistic regression for test set Guangzhou: 0.5296\n",
      "F1 Score of logistic regression for test set Guangzhou: 0.5733 \n",
      "\n",
      "Accuracy score of KNN Classifier for test set Guangzhou: 0.481\n",
      "F1 score of KNN Classifier for test set Guangzhou: 0.5761\n"
     ]
    }
   ],
   "source": [
    "lgr = LogisticRegression()\n",
    "lgr.fit(X_train_scaled, Y_train)\n",
    "lgr_score = lgr.score(X_test_scaled_guangzhou, Y_test_oversampled_guangzhou)\n",
    "lgr_predictions = lgr.predict(X_test_scaled_guangzhou)\n",
    "f1_lgr = f1_score(Y_test_oversampled_guangzhou, lgr_predictions)\n",
    "print('Accuracy score of logistic regression for test set Guangzhou:', round(lgr_score, 4))\n",
    "print(f'F1 Score of logistic regression for test set Guangzhou: {round(f1_lgr, 4)} \\n')\n",
    "\n",
    "knn = KNeighborsClassifier()\n",
    "knn.fit(X_train_scaled, Y_train)\n",
    "knn_score = knn.score(X_test_scaled_guangzhou, Y_test_oversampled_guangzhou)\n",
    "knn_predictions = knn.predict(X_test_scaled_guangzhou)\n",
    "f1_knn = f1_score(Y_test_oversampled_guangzhou, knn_predictions)\n",
    "print('Accuracy score of KNN Classifier for test set Guangzhou:', round(knn_score, 4))\n",
    "print('F1 score of KNN Classifier for test set Guangzhou:', round(f1_knn, 4))"
   ]
  }
 ],
 "metadata": {
  "kernelspec": {
   "display_name": "base",
   "language": "python",
   "name": "python3"
  },
  "language_info": {
   "codemirror_mode": {
    "name": "ipython",
    "version": 3
   },
   "file_extension": ".py",
   "mimetype": "text/x-python",
   "name": "python",
   "nbconvert_exporter": "python",
   "pygments_lexer": "ipython3",
   "version": "3.9.7"
  },
  "orig_nbformat": 4,
  "vscode": {
   "interpreter": {
    "hash": "d3e2c82196e12baaed2ed09f9a042bc281a80ecc12c17ec56f626fcbf6ffbb0c"
   }
  }
 },
 "nbformat": 4,
 "nbformat_minor": 2
}
