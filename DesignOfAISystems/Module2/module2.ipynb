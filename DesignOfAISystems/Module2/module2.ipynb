{
 "cells": [
  {
   "cell_type": "code",
   "execution_count": 1,
   "metadata": {},
   "outputs": [],
   "source": [
    "import pandas as pd\n",
    "from surprise import Dataset\n",
    "from surprise import Reader\n",
    "\n",
    "df = pd.read_csv('data/user_reviews.csv')\n",
    "\n",
    "# creates list of all movies\n",
    "movies = list(df.columns)\n",
    "movies = set(movies[2:])\n",
    "\n",
    "# removes (first) column with indexes\n",
    "df.pop(df.columns[0])\n",
    "\n",
    "# reformating the data to have columns [user, movie, rating]\n",
    "df = df.melt(id_vars=['User'], value_vars=df.columns[~df.columns.isin(['User'])], var_name='movie', value_name='rating')\n",
    "df = df[df['rating'] != 0]"
   ]
  },
  {
   "cell_type": "code",
   "execution_count": 28,
   "metadata": {},
   "outputs": [
    {
     "name": "stdout",
     "output_type": "stream",
     "text": [
      "Computing the msd similarity matrix...\n",
      "Done computing similarity matrix.\n"
     ]
    },
    {
     "data": {
      "text/plain": [
       "<surprise.prediction_algorithms.knns.KNNBasic at 0x7f9210861a00>"
      ]
     },
     "execution_count": 28,
     "metadata": {},
     "output_type": "execute_result"
    }
   ],
   "source": [
    "from surprise import KNNWithMeans\n",
    "from surprise import KNNBasic\n",
    "\n",
    "reader = Reader(rating_scale=(1, 5))\n",
    "\n",
    "data = Dataset.load_from_df(df[[\"User\", \"movie\", \"rating\"]], reader)\n",
    "\n",
    "sim_options = {\n",
    "    \"name\": \"msd\",\n",
    "    \"user_based\": True,\n",
    "    'min_support': 3  \n",
    "    }\n",
    "\n",
    "alg = KNNBasic(sim_options=sim_options)\n",
    "\n",
    "training_set = data.build_full_trainset()\n",
    "\n",
    "alg.fit(training_set)"
   ]
  },
  {
   "cell_type": "code",
   "execution_count": 29,
   "metadata": {},
   "outputs": [],
   "source": [
    "def predict_ratings(user):\n",
    "\n",
    "    unrated_movies = movies-get_movies(user)\n",
    "    predictions = []\n",
    "    \n",
    "    for movie in unrated_movies:\n",
    "        predictions.append((movie, alg.predict(user, movie).est))\n",
    "\n",
    "    return predictions\n",
    "\n",
    "def get_movies(user):\n",
    "    users_ratings = df.loc[df['User'] == user]\n",
    "    return set(users_ratings['movie'])\n",
    "\n",
    "def get_top_n_recs(user, n):\n",
    "    all_ratings = predict_ratings(user)\n",
    "    sorted_ratings = sorted(all_ratings, key=lambda x: x[1], reverse=True)\n",
    "    first_n = sorted_ratings[:n]\n",
    "\n",
    "    return([x[0] for x in first_n])\n"
   ]
  },
  {
   "cell_type": "code",
   "execution_count": 30,
   "metadata": {},
   "outputs": [
    {
     "name": "stdout",
     "output_type": "stream",
     "text": [
      "Reccomendations for Vincent: Maximum Risk, My Best Friend's Wedding, Robin and Marian, Dream with the Fishes, Four Christmases\n",
      "Reccomendations for Edgar: Street Kings, Ghost World, The Juror, Stealth, As It Is in Heaven\n",
      "Reccomendations for Addilyn: Lords of Dogtown, Underworld: Rise of the Lycans, Modern Problems, Desert Blue, Bandits\n",
      "Reccomendations for Marlee: It's a Wonderful Afterlife, The Queen, Hits, In the Company of Men, Mad City\n",
      "Reccomendations for Javier: Lovesick, Broken City, Life of Pi, Lords of London, Last Action Hero\n"
     ]
    }
   ],
   "source": [
    "users =  ['Vincent', 'Edgar', 'Addilyn', 'Marlee', 'Javier']\n",
    "\n",
    "for user in users:\n",
    "    recommendations = get_top_n_recs(user, 5)\n",
    "    rec = \", \".join(recommendations)\n",
    "    print(f'Reccomendations for {user}: {rec}')"
   ]
  },
  {
   "cell_type": "code",
   "execution_count": 31,
   "metadata": {},
   "outputs": [
    {
     "name": "stdout",
     "output_type": "stream",
     "text": [
      "Computing the msd similarity matrix...\n",
      "Done computing similarity matrix.\n",
      "Computing the msd similarity matrix...\n",
      "Done computing similarity matrix.\n",
      "Computing the msd similarity matrix...\n",
      "Done computing similarity matrix.\n",
      "Computing the msd similarity matrix...\n",
      "Done computing similarity matrix.\n",
      "Computing the msd similarity matrix...\n",
      "Done computing similarity matrix.\n",
      "Computing the msd similarity matrix...\n",
      "Done computing similarity matrix.\n",
      "Computing the msd similarity matrix...\n",
      "Done computing similarity matrix.\n",
      "Computing the msd similarity matrix...\n",
      "Done computing similarity matrix.\n",
      "Computing the msd similarity matrix...\n",
      "Done computing similarity matrix.\n",
      "Computing the cosine similarity matrix...\n",
      "Done computing similarity matrix.\n",
      "Computing the cosine similarity matrix...\n",
      "Done computing similarity matrix.\n",
      "Computing the cosine similarity matrix...\n",
      "Done computing similarity matrix.\n",
      "Computing the cosine similarity matrix...\n",
      "Done computing similarity matrix.\n",
      "Computing the cosine similarity matrix...\n",
      "Done computing similarity matrix.\n",
      "Computing the cosine similarity matrix...\n",
      "Done computing similarity matrix.\n",
      "Computing the cosine similarity matrix...\n",
      "Done computing similarity matrix.\n",
      "Computing the cosine similarity matrix...\n",
      "Done computing similarity matrix.\n",
      "Computing the cosine similarity matrix...\n",
      "Done computing similarity matrix.\n",
      "Computing the pearson similarity matrix...\n",
      "Done computing similarity matrix.\n",
      "Computing the pearson similarity matrix...\n",
      "Done computing similarity matrix.\n",
      "Computing the pearson similarity matrix...\n",
      "Done computing similarity matrix.\n",
      "Computing the pearson similarity matrix...\n",
      "Done computing similarity matrix.\n",
      "Computing the pearson similarity matrix...\n",
      "Done computing similarity matrix.\n",
      "Computing the pearson similarity matrix...\n",
      "Done computing similarity matrix.\n",
      "Computing the pearson similarity matrix...\n",
      "Done computing similarity matrix.\n",
      "Computing the pearson similarity matrix...\n",
      "Done computing similarity matrix.\n",
      "Computing the pearson similarity matrix...\n",
      "Done computing similarity matrix.\n",
      "Estimating biases using als...\n",
      "Computing the pearson_baseline similarity matrix...\n",
      "Done computing similarity matrix.\n",
      "Estimating biases using als...\n",
      "Computing the pearson_baseline similarity matrix...\n",
      "Done computing similarity matrix.\n",
      "Estimating biases using als...\n",
      "Computing the pearson_baseline similarity matrix...\n",
      "Done computing similarity matrix.\n",
      "Estimating biases using als...\n",
      "Computing the pearson_baseline similarity matrix...\n",
      "Done computing similarity matrix.\n",
      "Estimating biases using als...\n",
      "Computing the pearson_baseline similarity matrix...\n",
      "Done computing similarity matrix.\n",
      "Estimating biases using als...\n",
      "Computing the pearson_baseline similarity matrix...\n",
      "Done computing similarity matrix.\n",
      "Estimating biases using als...\n",
      "Computing the pearson_baseline similarity matrix...\n",
      "Done computing similarity matrix.\n",
      "Estimating biases using als...\n",
      "Computing the pearson_baseline similarity matrix...\n",
      "Done computing similarity matrix.\n",
      "Estimating biases using als...\n",
      "Computing the pearson_baseline similarity matrix...\n",
      "Done computing similarity matrix.\n",
      "1.2120509368285435\n",
      "{'sim_options': {'name': 'pearson_baseline', 'min_support': 3, 'user_based': True}}\n",
      "1.044085343915255\n",
      "{'sim_options': {'name': 'pearson_baseline', 'min_support': 3, 'user_based': True}}\n"
     ]
    }
   ],
   "source": [
    "from surprise import KNNWithMeans\n",
    "from surprise import KNNBasic\n",
    "from surprise import Dataset\n",
    "from surprise.model_selection import GridSearchCV\n",
    "\n",
    "sim_options = {\n",
    "    \"name\": [\"msd\", \"cosine\", \"pearson\", \"pearson_baseline\"],\n",
    "    \"min_support\": [1, 2, 3], #, 4],#, 4, 5, 6, 7, 8, 9],\n",
    "    \"user_based\": [True],\n",
    "}\n",
    "\n",
    "param_grid = {\"sim_options\": sim_options}\n",
    "\n",
    "gs = GridSearchCV(KNNBasic, param_grid, measures=[\"rmse\", \"mae\"], cv=3)\n",
    "gs.fit(data)\n",
    "\n",
    "print(gs.best_score[\"rmse\"])\n",
    "print(gs.best_params[\"rmse\"])\n",
    "print(gs.best_score[\"mae\"])\n",
    "print(gs.best_params[\"mae\"])"
   ]
  }
 ],
 "metadata": {
  "kernelspec": {
   "display_name": "base",
   "language": "python",
   "name": "python3"
  },
  "language_info": {
   "codemirror_mode": {
    "name": "ipython",
    "version": 3
   },
   "file_extension": ".py",
   "mimetype": "text/x-python",
   "name": "python",
   "nbconvert_exporter": "python",
   "pygments_lexer": "ipython3",
   "version": "3.9.7"
  },
  "orig_nbformat": 4,
  "vscode": {
   "interpreter": {
    "hash": "d3e2c82196e12baaed2ed09f9a042bc281a80ecc12c17ec56f626fcbf6ffbb0c"
   }
  }
 },
 "nbformat": 4,
 "nbformat_minor": 2
}
